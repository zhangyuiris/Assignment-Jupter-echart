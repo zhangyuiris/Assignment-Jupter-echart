{
 "cells": [
  {
   "cell_type": "code",
   "execution_count": 29,
   "metadata": {},
   "outputs": [
    {
     "name": "stdout",
     "output_type": "stream",
     "text": [
      "[ 4512.27375     7754.65666667  3788.758       5678.62      ]\n",
      "Expenses:4512.27\n",
      "['江苏', '安徽', '湖南', '湖北', '广西', '海南', '四川', '云南']\n",
      "Expenses:7754.66\n",
      "['北京', '上海', '广东']\n",
      "Expenses:3788.76\n",
      "['河北', '山西', '内蒙古', '辽宁', '吉林', '黑龙江', '江西', '山东', '河南', '贵州', '陕西', '甘肃', '青海', '宁夏', '新疆']\n",
      "Expenses:5678.62\n",
      "['天津', '浙江', '福建', '重庆', '西藏']\n"
     ]
    },
    {
     "data": {
      "image/png": "[encoded data removed]",
      "text/plain": [
       "<matplotlib.figure.Figure at 0x262dbc67438>"
      ]
     },
     "metadata": {},
     "output_type": "display_data"
    }
   ],
   "source": [
    "import numpy as np\n",
    "import matplotlib.pyplot as plt\n",
    "from sklearn.cluster import KMeans\n",
    "\n",
    "def loadDate(filePath):\n",
    "    fr = open(filePath,'r+')#读写打开文件\n",
    "    lines = fr.readlines()#readlines一次读取整个文件readline读取单行\n",
    "    retDate = []#储存城市的各项消费信息\n",
    "    retCityName = []#储存城市名字\n",
    "    for line in lines:\n",
    "        items = line.strip().split(\",\")\n",
    "        retCityName.append(items[0])\n",
    "        retDate.append([float(items[i]) for i in range(1,len(items))])\n",
    "    for i in range(1,len(items[0])):\n",
    "        return retDate,retCityName\n",
    "\n",
    "def main():\n",
    "    data,cityName = loadDate('city.txt')\n",
    "    km = KMeans(n_clusters=10)#指定聚类中心个数\n",
    "    label = km.fit_predict(data)#聚类后个数据所属的标签，fit_predict计算簇中心以及为簇中心分配序号\n",
    "    expenses = np.sum(km.cluster_centers_,axis=1)#axis 按行求和\n",
    "    print(expenses)\n",
    "    CityCluster = [[],[],[],[],[],[],[],[],[],[]]\n",
    "    for i in range(len(cityName)):#将城市按label分成设定的簇 将每个城市输出，将每个城市的平均花费输出\n",
    "        CityCluster[label[i]].append(cityName[i])\n",
    "    for i in range(len(CityCluster)):\n",
    "        print(\"Expenses:%.2f\"%expenses[i])\n",
    "        print(CityCluster[i])\n",
    "    Y = expenses\n",
    "\n",
    "    plt.figure()\n",
    "    plt.hist(Y, 10)\n",
    "    plt.show()\n",
    "\n",
    "main()\n"
   ]
  },
  {
   "cell_type": "code",
   "execution_count": null,
   "metadata": {
    "collapsed": true
   },
   "outputs": [],
   "source": []
  }
 ],
 "metadata": {
  "kernelspec": {
   "display_name": "Python 3",
   "language": "python",
   "name": "python3"
  },
  "language_info": {
   "codemirror_mode": {
    "name": "ipython",
    "version": 3
   },
   "file_extension": ".py",
   "mimetype": "text/x-python",
   "name": "python",
   "nbconvert_exporter": "python",
   "pygments_lexer": "ipython3",
   "version": "3.6.1"
  }
 },
 "nbformat": 4,
 "nbformat_minor": 2
}
